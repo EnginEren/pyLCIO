{
 "cells": [
  {
   "cell_type": "code",
   "execution_count": 2,
   "metadata": {},
   "outputs": [],
   "source": [
    "from ROOT import TH1D, TCanvas, TF1, std\n",
    "from pyLCIO import EVENT, UTIL, IOIMPL, IMPL\n",
    "import matplotlib.pyplot as plt\n",
    "import matplotlib as mpl\n",
    "import numpy as np\n",
    "import h5py \n",
    "import awkward1 as ak \n",
    "import pandas as pd\n",
    "plt.rcParams.update({'font.size': 17})\n",
    "\n",
    "##conda install awkward1 -c conda-forge\n",
    "\n",
    "from functions import CellIDDecoder\n",
    "from scipy.stats import norm"
   ]
  },
  {
   "cell_type": "code",
   "execution_count": 3,
   "metadata": {},
   "outputs": [],
   "source": [
    "fName=\"nom50GeV_z5cm.slcio\"\n",
    "collection = 'ECalBarrelSiHitsOdd'\n",
    "reader = IOIMPL.LCFactory.getInstance().createLCReader()\n",
    "reader.open( fName )"
   ]
  },
  {
   "cell_type": "code",
   "execution_count": 34,
   "metadata": {},
   "outputs": [],
   "source": [
    "maxEvt = 10\n",
    "nEvt = 0\n",
    "\n",
    "binX = np.arange(-81, 82, 5.088333)\n",
    "binZ = np.arange(-77, 78, 5.088333)\n",
    "binY = np.arange(1800, 2058, 1)\n",
    "binL = np.arange(0, 30, 1)\n",
    "    \n",
    "b = ak.ArrayBuilder()\n",
    "\n",
    "for evt in reader:\n",
    "    nEvt += 1\n",
    "    if nEvt > maxEvt:\n",
    "        break\n",
    "    \n",
    "    b.begin_list()\n",
    "    ecalBarrel = evt.getCollection(collection)\n",
    "    cellIDString = ecalBarrel.getParameters().getStringVal(\"CellIDEncoding\")\n",
    "    decoder = CellIDDecoder( cellIDString ) \n",
    "    for hit in ecalBarrel:\n",
    "         \n",
    "        l = decoder.layer( hit.getCellID0() ) \n",
    "        e = hit.getEnergy()\n",
    "        pos = hit.getPosition()\n",
    "        b.begin_record() \n",
    "        b.field(\"x\")\n",
    "        b.real(pos[0])\n",
    "        b.field(\"y\")\n",
    "        b.real(pos[1])\n",
    "        b.field(\"z\")\n",
    "        b.real(pos[2])\n",
    "        b.field(\"e\")\n",
    "        b.real(e * 1000)\n",
    "        b.field(\"layer\")\n",
    "        b.integer(l)\n",
    "        b.end_record() \n",
    "        \n",
    "    b.end_list()\n",
    "    \n",
    "    "
   ]
  },
  {
   "cell_type": "code",
   "execution_count": 36,
   "metadata": {},
   "outputs": [],
   "source": [
    "H, xedges, yedges = np.histogram2d(ak.to_numpy(b[4].z), ak.to_numpy(b[4].x), bins=(binZ, binX), weights=ak.to_numpy(b[4].e))"
   ]
  },
  {
   "cell_type": "code",
   "execution_count": 30,
   "metadata": {},
   "outputs": [
    {
     "data": {
      "text/plain": [
       "(33,)"
      ]
     },
     "execution_count": 30,
     "metadata": {},
     "output_type": "execute_result"
    }
   ],
   "source": [
    "#print (b[0].y[0], b[0].layer[0])\n",
    "binL = np.arange(0, 30, 1)\n",
    "binX.shape"
   ]
  },
  {
   "cell_type": "code",
   "execution_count": 42,
   "metadata": {
    "scrolled": true
   },
   "outputs": [
    {
     "data": {
      "text/plain": [
       "<Array [-391, -170, ... 1.83e+03, 1.83e+03] type='550 * float64'>"
      ]
     },
     "execution_count": 42,
     "metadata": {},
     "output_type": "execute_result"
    }
   ],
   "source": [
    "#np.sort(ak.to_numpy(b[6].layer))\n",
    "#bsort = ak.sort(b[0])\n",
    "#bsort.x"
   ]
  },
  {
   "cell_type": "code",
   "execution_count": 109,
   "metadata": {
    "scrolled": false
   },
   "outputs": [
    {
     "data": {
      "text/plain": [
       "<matplotlib.image.AxesImage at 0x7feb48e2ba00>"
      ]
     },
     "execution_count": 109,
     "metadata": {},
     "output_type": "execute_result"
    },
    {
     "data": {
      "image/png": "[encoded data removed]",
      "text/plain": [
       "<Figure size 720x1080 with 1 Axes>"
      ]
     },
     "metadata": {
      "needs_background": "light"
     },
     "output_type": "display_data"
    }
   ],
   "source": [
    "cmap = mpl.cm.viridis\n",
    "fig, ax = plt.subplots(figsize=(10,15))\n",
    "plt.imshow(H, filternorm=False, interpolation='none', cmap = cmap,\n",
    "                       norm=mpl.colors.LogNorm(), origin='lower')\n",
    "\n",
    "            "
   ]
  },
  {
   "cell_type": "code",
   "execution_count": null,
   "metadata": {},
   "outputs": [],
   "source": []
  }
 ],
 "metadata": {
  "kernelspec": {
   "display_name": "Python 3",
   "language": "python",
   "name": "python3"
  },
  "language_info": {
   "codemirror_mode": {
    "name": "ipython",
    "version": 3
   },
   "file_extension": ".py",
   "mimetype": "text/x-python",
   "name": "python",
   "nbconvert_exporter": "python",
   "pygments_lexer": "ipython3",
   "version": "3.8.5"
  }
 },
 "nbformat": 4,
 "nbformat_minor": 4
}
