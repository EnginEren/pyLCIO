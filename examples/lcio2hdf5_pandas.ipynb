{
 "cells": [
  {
   "cell_type": "code",
   "execution_count": 1,
   "metadata": {},
   "outputs": [
    {
     "name": "stdout",
     "output_type": "stream",
     "text": [
      "Welcome to JupyROOT 6.22/00\n",
      "Loading LCIO ROOT dictionaries ...\n"
     ]
    }
   ],
   "source": [
    "from ROOT import TH1D, TCanvas, TF1, std\n",
    "from pyLCIO import EVENT, UTIL, IOIMPL, IMPL\n",
    "import matplotlib.pyplot as plt\n",
    "import numpy as np\n",
    "import h5py \n",
    "import awkward1 as ak \n",
    "import pandas as pd\n",
    "plt.rcParams.update({'font.size': 17})\n",
    "\n",
    "##conda install -c anaconda pytables\n",
    "\n",
    "from functions import CellIDDecoder\n",
    "from scipy.stats import norm"
   ]
  },
  {
   "cell_type": "code",
   "execution_count": 2,
   "metadata": {},
   "outputs": [],
   "source": [
    "fName=\"angle/photon-5deg-z1cm.slcio\"\n",
    "collection = 'ECalBarrelSiHitsOdd'\n",
    "reader = IOIMPL.LCFactory.getInstance().createLCReader()\n",
    "reader.open( fName )"
   ]
  },
  {
   "cell_type": "code",
   "execution_count": 3,
   "metadata": {},
   "outputs": [],
   "source": [
    "maxEvt = 1\n",
    "nEvt = 0\n",
    "\n",
    "df = pd.DataFrame(columns=['layer', 'x', 'y', 'z', 'e'])\n",
    "nhit = 0\n",
    "for evt in reader:\n",
    "    nEvt += 1\n",
    "    if nEvt > maxEvt:\n",
    "            break\n",
    "    \n",
    "    ecalBarrel = evt.getCollection(collection)\n",
    "    cellIDString = ecalBarrel.getParameters().getStringVal(\"CellIDEncoding\")\n",
    "    decoder = CellIDDecoder( cellIDString ) \n",
    "    for hit in ecalBarrel:\n",
    "        nhit += 1  \n",
    "        l = decoder.layer( hit.getCellID0() ) \n",
    "        e = hit.getEnergy()\n",
    "        pos = hit.getPosition()\n",
    "        df.loc[nhit] = [l,pos[0], pos[1], pos[2], e]\n",
    "        #print (l,pos[0], pos[1], pos[2], e)\n",
    "        \n",
    "        "
   ]
  },
  {
   "cell_type": "code",
   "execution_count": 4,
   "metadata": {},
   "outputs": [
    {
     "data": {
      "text/html": [
       "<div>\n",
       "<style scoped>\n",
       "    .dataframe tbody tr th:only-of-type {\n",
       "        vertical-align: middle;\n",
       "    }\n",
       "\n",
       "    .dataframe tbody tr th {\n",
       "        vertical-align: top;\n",
       "    }\n",
       "\n",
       "    .dataframe thead th {\n",
       "        text-align: right;\n",
       "    }\n",
       "</style>\n",
       "<table border=\"1\" class=\"dataframe\">\n",
       "  <thead>\n",
       "    <tr style=\"text-align: right;\">\n",
       "      <th></th>\n",
       "      <th>layer</th>\n",
       "      <th>x</th>\n",
       "      <th>y</th>\n",
       "      <th>z</th>\n",
       "      <th>e</th>\n",
       "    </tr>\n",
       "  </thead>\n",
       "  <tbody>\n",
       "    <tr>\n",
       "      <th>1</th>\n",
       "      <td>5.0</td>\n",
       "      <td>10.061804</td>\n",
       "      <td>1839.667480</td>\n",
       "      <td>128.344162</td>\n",
       "      <td>0.002828</td>\n",
       "    </tr>\n",
       "    <tr>\n",
       "      <th>2</th>\n",
       "      <td>7.0</td>\n",
       "      <td>12.856804</td>\n",
       "      <td>1852.137451</td>\n",
       "      <td>128.344162</td>\n",
       "      <td>0.007597</td>\n",
       "    </tr>\n",
       "    <tr>\n",
       "      <th>3</th>\n",
       "      <td>9.0</td>\n",
       "      <td>10.563471</td>\n",
       "      <td>1864.607544</td>\n",
       "      <td>128.344162</td>\n",
       "      <td>0.019933</td>\n",
       "    </tr>\n",
       "    <tr>\n",
       "      <th>4</th>\n",
       "      <td>11.0</td>\n",
       "      <td>8.270137</td>\n",
       "      <td>1877.077515</td>\n",
       "      <td>128.344162</td>\n",
       "      <td>0.019514</td>\n",
       "    </tr>\n",
       "    <tr>\n",
       "      <th>5</th>\n",
       "      <td>3.0</td>\n",
       "      <td>12.355137</td>\n",
       "      <td>1827.197510</td>\n",
       "      <td>138.520828</td>\n",
       "      <td>0.000095</td>\n",
       "    </tr>\n",
       "    <tr>\n",
       "      <th>...</th>\n",
       "      <td>...</td>\n",
       "      <td>...</td>\n",
       "      <td>...</td>\n",
       "      <td>...</td>\n",
       "      <td>...</td>\n",
       "    </tr>\n",
       "    <tr>\n",
       "      <th>417</th>\n",
       "      <td>11.0</td>\n",
       "      <td>8.270137</td>\n",
       "      <td>1877.077515</td>\n",
       "      <td>118.167503</td>\n",
       "      <td>0.000164</td>\n",
       "    </tr>\n",
       "    <tr>\n",
       "      <th>418</th>\n",
       "      <td>9.0</td>\n",
       "      <td>0.386804</td>\n",
       "      <td>1864.607544</td>\n",
       "      <td>153.785828</td>\n",
       "      <td>0.000016</td>\n",
       "    </tr>\n",
       "    <tr>\n",
       "      <th>419</th>\n",
       "      <td>9.0</td>\n",
       "      <td>-25.054863</td>\n",
       "      <td>1864.607544</td>\n",
       "      <td>184.315826</td>\n",
       "      <td>0.000876</td>\n",
       "    </tr>\n",
       "    <tr>\n",
       "      <th>420</th>\n",
       "      <td>17.0</td>\n",
       "      <td>84.803467</td>\n",
       "      <td>1914.487549</td>\n",
       "      <td>184.315826</td>\n",
       "      <td>0.000171</td>\n",
       "    </tr>\n",
       "    <tr>\n",
       "      <th>421</th>\n",
       "      <td>23.0</td>\n",
       "      <td>-12.889863</td>\n",
       "      <td>1960.297485</td>\n",
       "      <td>123.255836</td>\n",
       "      <td>0.000300</td>\n",
       "    </tr>\n",
       "  </tbody>\n",
       "</table>\n",
       "<p>421 rows × 5 columns</p>\n",
       "</div>"
      ],
      "text/plain": [
       "     layer          x            y           z         e\n",
       "1      5.0  10.061804  1839.667480  128.344162  0.002828\n",
       "2      7.0  12.856804  1852.137451  128.344162  0.007597\n",
       "3      9.0  10.563471  1864.607544  128.344162  0.019933\n",
       "4     11.0   8.270137  1877.077515  128.344162  0.019514\n",
       "5      3.0  12.355137  1827.197510  138.520828  0.000095\n",
       "..     ...        ...          ...         ...       ...\n",
       "417   11.0   8.270137  1877.077515  118.167503  0.000164\n",
       "418    9.0   0.386804  1864.607544  153.785828  0.000016\n",
       "419    9.0 -25.054863  1864.607544  184.315826  0.000876\n",
       "420   17.0  84.803467  1914.487549  184.315826  0.000171\n",
       "421   23.0 -12.889863  1960.297485  123.255836  0.000300\n",
       "\n",
       "[421 rows x 5 columns]"
      ]
     },
     "execution_count": 4,
     "metadata": {},
     "output_type": "execute_result"
    }
   ],
   "source": [
    "df"
   ]
  },
  {
   "cell_type": "code",
   "execution_count": 5,
   "metadata": {},
   "outputs": [],
   "source": [
    "df.to_hdf('data.hdf5', key='shower', mode='w')"
   ]
  },
  {
   "cell_type": "code",
   "execution_count": 6,
   "metadata": {},
   "outputs": [],
   "source": [
    "f = h5py.File('data.hdf5', 'r')"
   ]
  },
  {
   "cell_type": "code",
   "execution_count": 29,
   "metadata": {},
   "outputs": [],
   "source": [
    "a = f['shower']['block0_values']"
   ]
  },
  {
   "cell_type": "code",
   "execution_count": 34,
   "metadata": {},
   "outputs": [
    {
     "data": {
      "text/plain": [
       "array([1.70000000e+01, 1.25668039e+01, 1.91448755e+03, 2.10757507e+02,\n",
       "       4.94790031e-04])"
      ]
     },
     "execution_count": 34,
     "metadata": {},
     "output_type": "execute_result"
    }
   ],
   "source": [
    "a[303]"
   ]
  },
  {
   "cell_type": "code",
   "execution_count": null,
   "metadata": {},
   "outputs": [],
   "source": []
  }
 ],
 "metadata": {
  "kernelspec": {
   "display_name": "Python 3",
   "language": "python",
   "name": "python3"
  },
  "language_info": {
   "codemirror_mode": {
    "name": "ipython",
    "version": 3
   },
   "file_extension": ".py",
   "mimetype": "text/x-python",
   "name": "python",
   "nbconvert_exporter": "python",
   "pygments_lexer": "ipython3",
   "version": "3.8.5"
  }
 },
 "nbformat": 4,
 "nbformat_minor": 4
}
