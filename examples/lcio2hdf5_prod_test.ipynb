{
 "cells": [
  {
   "cell_type": "code",
   "execution_count": 1,
   "metadata": {},
   "outputs": [
    {
     "name": "stdout",
     "output_type": "stream",
     "text": [
      "Welcome to JupyROOT 6.22/00\n",
      "Loading LCIO ROOT dictionaries ...\n"
     ]
    }
   ],
   "source": [
    "from pyLCIO import EVENT, UTIL, IOIMPL, IMPL\n",
    "import matplotlib.pyplot as plt\n",
    "import matplotlib as mpl\n",
    "import numpy as np\n",
    "import h5py \n",
    "import awkward1 as ak \n",
    "\n",
    "import argparse\n",
    "\n",
    "from functions import CellIDDecoder\n",
    "\n",
    "hmap = np.array([1811, 1814, 1824, 1827, 1836, 1839, 1849,\n",
    "                    1852, 1861, 1864, 1873, 1877, 1886, 1889, 1898, 1902,\n",
    "                    1911, 1914, 1923, 1926, 1938, 1943, 1955, 1960,\n",
    "                    1971, 1976, 1988, 1993, 2005, 2010])\n",
    "\n"
   ]
  },
  {
   "cell_type": "code",
   "execution_count": 2,
   "metadata": {},
   "outputs": [],
   "source": [
    "fName=\"v02-02/nom50GeV_REC.slcio\"\n",
    "collection = 'EcalBarrelCollection'\n",
    "reader = IOIMPL.LCFactory.getInstance().createLCReader()\n",
    "reader.open( fName )"
   ]
  },
  {
   "cell_type": "code",
   "execution_count": 3,
   "metadata": {},
   "outputs": [],
   "source": [
    "b = ak.ArrayBuilder()\n",
    "#layers = ak.ArrayBuilder()\n",
    "\n",
    "nevents = 100\n",
    "nEvt = 0\n",
    "for evt in reader:\n",
    "    nEvt += 1\n",
    "    if nEvt > nevents:\n",
    "        break\n",
    "\n",
    "    b.begin_list()\n",
    "    ecalBarrel = evt.getCollection(collection)\n",
    "    cellIDString = ecalBarrel.getParameters().getStringVal(\"CellIDEncoding\")\n",
    "    decoder = CellIDDecoder( cellIDString ) \n",
    "    \n",
    "    \n",
    "    mcparticle = evt.getCollection(\"MCParticle\")    \n",
    "    \n",
    "    for enr in mcparticle:\n",
    "        b.begin_record()\n",
    "        b.field(\"E\")\n",
    "        b.real(enr.getEnergy())\n",
    "        b.end_record() \n",
    "   \n",
    "    \n",
    "    for hit in ecalBarrel:\n",
    "\n",
    "        l = decoder.layer( hit.getCellID0() ) \n",
    "        e = hit.getEnergy()\n",
    "        pos = hit.getPosition()\n",
    "        b.begin_record() \n",
    "        b.field(\"x\")\n",
    "        b.real(pos[0])\n",
    "        b.field(\"y\")\n",
    "        b.real(pos[1])\n",
    "        b.field(\"z\")\n",
    "        b.real(pos[2])\n",
    "        b.field(\"e\")\n",
    "        b.real(e * 1000)\n",
    "        b.field(\"layer\")\n",
    "        b.integer(l)\n",
    "        b.end_record() \n",
    "\n",
    "    b.end_list()\n"
   ]
  },
  {
   "cell_type": "code",
   "execution_count": 4,
   "metadata": {},
   "outputs": [
    {
     "data": {
      "text/plain": [
       "<Array [50, None, None, ... None, None, None] type='867 * ?float64'>"
      ]
     },
     "execution_count": 4,
     "metadata": {},
     "output_type": "execute_result"
    }
   ],
   "source": [
    "b[0].E"
   ]
  },
  {
   "cell_type": "code",
   "execution_count": 5,
   "metadata": {
    "scrolled": false
   },
   "outputs": [],
   "source": [
    "binX = np.arange(-81, 82, 5.088333)\n",
    "binZ = np.arange(-77, 78, 5.088333)\n",
    "\n",
    "l = []\n",
    "E = []\n",
    "for i in range(0, nevents):\n",
    "\n",
    "    z = ak.to_numpy(b[i].z)\n",
    "    x = ak.to_numpy(b[i].x)\n",
    "    y = ak.to_numpy(b[i].y)\n",
    "    e = ak.to_numpy(b[i].e)\n",
    "    incE = ak.to_numpy(b[i].E)\n",
    "    E.append(incE.compressed()[0])\n",
    "    \n",
    "    layers = []\n",
    "    \n",
    "    for j in range(0,30):\n",
    "        idx = np.where((y <= (hmap[j] + 0.9999)) & (y > (hmap[j] + 0.0001)))\n",
    "        #print(idx, y)\n",
    "        xlayer = x.take(idx)[0]\n",
    "        zlayer = z.take(idx)[0]\n",
    "        elayer = e.take(idx)[0]\n",
    "        H, xedges, yedges = np.histogram2d(xlayer, zlayer, bins=(binX, binZ), weights=elayer)\n",
    "        layers.append(H)\n",
    "     \n",
    "    \n",
    "    l.append(layers)"
   ]
  },
  {
   "cell_type": "code",
   "execution_count": 6,
   "metadata": {},
   "outputs": [],
   "source": [
    "shower = np.asarray(l)\n",
    "Einc = np.asarray(E)"
   ]
  },
  {
   "cell_type": "code",
   "execution_count": 7,
   "metadata": {
    "scrolled": true
   },
   "outputs": [],
   "source": [
    "e0 = np.reshape(np.asarray(Einc),(-1,1))"
   ]
  },
  {
   "cell_type": "code",
   "execution_count": 8,
   "metadata": {
    "scrolled": false
   },
   "outputs": [
    {
     "data": {
      "text/plain": [
       "(100, 30, 32, 30)"
      ]
     },
     "execution_count": 8,
     "metadata": {},
     "output_type": "execute_result"
    }
   ],
   "source": [
    "shower.shape"
   ]
  },
  {
   "cell_type": "code",
   "execution_count": null,
   "metadata": {},
   "outputs": [],
   "source": []
  }
 ],
 "metadata": {
  "kernelspec": {
   "display_name": "Python 3",
   "language": "python",
   "name": "python3"
  },
  "language_info": {
   "codemirror_mode": {
    "name": "ipython",
    "version": 3
   },
   "file_extension": ".py",
   "mimetype": "text/x-python",
   "name": "python",
   "nbconvert_exporter": "python",
   "pygments_lexer": "ipython3",
   "version": "3.8.5"
  }
 },
 "nbformat": 4,
 "nbformat_minor": 4
}
