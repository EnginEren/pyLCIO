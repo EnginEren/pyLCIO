{
 "cells": [
  {
   "cell_type": "code",
   "execution_count": 1,
   "metadata": {},
   "outputs": [
    {
     "name": "stdout",
     "output_type": "stream",
     "text": [
      "Welcome to JupyROOT 6.22/00\n",
      "Loading LCIO ROOT dictionaries ...\n"
     ]
    }
   ],
   "source": [
    "from ROOT import TH1D, TCanvas, TF1, std\n",
    "from pyLCIO import EVENT, UTIL, IOIMPL\n",
    "import sys\n",
    "from math import *"
   ]
  },
  {
   "cell_type": "code",
   "execution_count": 2,
   "metadata": {},
   "outputs": [],
   "source": [
    "import matplotlib.pyplot as plt\n",
    "import numpy as np"
   ]
  },
  {
   "cell_type": "code",
   "execution_count": 3,
   "metadata": {},
   "outputs": [],
   "source": [
    "### read LCIO file \n",
    "fName=\"wgan50GeV_REC.slcio\"\n",
    "#fName=\"nom50GeV_REC.slcio\"\n",
    "\n",
    "reader = IOIMPL.LCFactory.getInstance().createLCReader()\n",
    "reader.open( fName )"
   ]
  },
  {
   "cell_type": "code",
   "execution_count": 4,
   "metadata": {
    "scrolled": false
   },
   "outputs": [
    {
     "name": "stdout",
     "output_type": "stream",
     "text": [
      "--------------------\n",
      "   BCAL\n",
      "   BuildUpVertex\n",
      "   BuildUpVertex_RP\n",
      "   BuildUpVertex_V0\n",
      "   BuildUpVertex_V0_RP\n",
      "   ClupatraTrackSegments\n",
      "   ClupatraTracks\n",
      "   ClusterMCTruthLink\n",
      "   DistilledPFOs\n",
      "   ECalBarrelSiHits\n",
      "   EcalBarrelCollection\n",
      "   EcalBarrelCollectionDigi\n",
      "   EcalBarrelCollectionGapHits\n",
      "   EcalBarrelCollectionRec\n",
      "   EcalBarrelRelationsSimDigi\n",
      "   EcalBarrelRelationsSimRec\n",
      "   GammaGammaCandidateEtaPrimes\n",
      "   GammaGammaCandidateEtas\n",
      "   GammaGammaCandidatePi0s\n",
      "   GammaGammaParticles\n",
      "   LCAL\n",
      "   LHCAL\n",
      "   MCParticle\n",
      "   MCParticlesSkimmed\n",
      "   MCTruthClusterLink\n",
      "   MCTruthMarlinTrkTracksLink\n",
      "   MCTruthRecoLink\n",
      "   MUON\n",
      "   MarlinTrkTracks\n",
      "   MarlinTrkTracksKaon\n",
      "   MarlinTrkTracksKaonMCP\n",
      "   MarlinTrkTracksMCTruthLink\n",
      "   MarlinTrkTracksProton\n",
      "   MarlinTrkTracksProtonMCP\n",
      "   PandoraClusters\n",
      "   PandoraPFANewStartVertices\n",
      "   PandoraPFOs\n",
      "   PrimaryVertex\n",
      "   PrimaryVertex_RP\n",
      "   RecoMCTruthLink\n",
      "   RelationBCalHit\n",
      "   RelationLHcalHit\n",
      "   RelationLcalHit\n",
      "   RelationMuonHit\n",
      "   SiTracks\n",
      "   SubsetTracks\n",
      "   TPCTrackerHitRelations\n",
      "   TPCTrackerHits\n",
      "---------------------\n"
     ]
    }
   ],
   "source": [
    "# print the collection names of the first event\n",
    "\n",
    "maxEvt = 1\n",
    "nEvt = 0\n",
    "\n",
    "for evt in reader:\n",
    "    nEvt += 1\n",
    "    if nEvt > maxEvt:\n",
    "            break\n",
    "\n",
    "    colNames = evt.getCollectionNames()\n",
    "    print(\"--------------------\")\n",
    "    for n in colNames:\n",
    "        print(\"  \", n)\n",
    "    print(\"---------------------\")"
   ]
  },
  {
   "cell_type": "code",
   "execution_count": null,
   "metadata": {},
   "outputs": [],
   "source": [
    "# ---- create a histogram with pfo energies\n",
    "lpfo = []\n",
    "\n",
    "\n",
    "maxEvt = 5000\n",
    "nEvt = 0\n",
    "\n",
    "for evt in reader:\n",
    "    nEvt += 1\n",
    "    if nEvt > maxEvt:\n",
    "            break\n",
    "\n",
    "    pfos = evt.getCollection(\"PandoraPFOs\")\n",
    "\n",
    "    for pfo in pfos:\n",
    "        lpfo.append( pfo.getEnergy() )\n",
    "\n",
    "\n",
    "## convert energies to numpy arrays\n",
    "hpfo = np.asarray(lpfo)\n",
    "\n",
    "\n",
    "# the histogram of the data\n",
    "fig, ax = plt.subplots(1,1, figsize=(8, 8))\n",
    "n, bins, patches = plt.hist(hpfo, 50, facecolor='green', alpha=0.75)\n",
    "plt.xlabel('PFO Energy [GeV]')\n",
    "plt.ylabel('')\n",
    "plt.title('50 GeV')\n",
    "ax.set_xlim([20, 60])"
   ]
  },
  {
   "cell_type": "code",
   "execution_count": null,
   "metadata": {},
   "outputs": [],
   "source": []
  }
 ],
 "metadata": {
  "kernelspec": {
   "display_name": "Python 3",
   "language": "python",
   "name": "python3"
  },
  "language_info": {
   "codemirror_mode": {
    "name": "ipython",
    "version": 3
   },
   "file_extension": ".py",
   "mimetype": "text/x-python",
   "name": "python",
   "nbconvert_exporter": "python",
   "pygments_lexer": "ipython3",
   "version": "3.8.5"
  }
 },
 "nbformat": 4,
 "nbformat_minor": 4
}
