{
 "cells": [
  {
   "cell_type": "code",
   "execution_count": 1,
   "metadata": {},
   "outputs": [
    {
     "name": "stdout",
     "output_type": "stream",
     "text": [
      "Welcome to JupyROOT 6.22/02\n",
      "Loading LCIO ROOT dictionaries ...\n"
     ]
    }
   ],
   "source": [
    "from ROOT import TH1D, TCanvas, TF1, std\n",
    "from pyLCIO import EVENT, UTIL, IOIMPL, IMPL\n",
    "#from UTIL import CellIDDecoder\n",
    "import matplotlib.pyplot as plt\n",
    "import numpy as np\n",
    "import h5py\n",
    "import matplotlib as mpl\n",
    "import math\n",
    "plt.rcParams.update({'font.size': 17})\n",
    "\n",
    "from functions import Esumhit\n",
    "from functions import CellIDDecoder\n",
    "\n",
    "import uncertainties\n",
    "#from uncertainties import unumpy\n",
    "\n",
    "def getTotE(data, xbins, ybins, layers):\n",
    "    data = np.reshape(data,[-1, layers*xbins*ybins])\n",
    "    etot_arr = np.sum(data, axis=(1))\n",
    "    return etot_arr\n",
    "\n",
    "\n"
   ]
  },
  {
   "cell_type": "code",
   "execution_count": 2,
   "metadata": {},
   "outputs": [],
   "source": [
    "from matplotlib.ticker import (MultipleLocator, FormatStrFormatter, AutoMinorLocator)\n",
    "\n",
    "\n",
    "color_list = []\n",
    "color_list.append('dimgrey')\n",
    "color_list.append('black')\n",
    "\n",
    "\n",
    "linewidth_list = []\n",
    "linewidth_list.append(1.5)\n",
    "linewidth_list.append(2)\n",
    "\n",
    "    \n",
    "linestyle_list = []\n",
    "linestyle_list.append('-')\n",
    "linestyle_list.append('--')\n",
    "\n",
    "fillcolor_list = []\n",
    "fillcolor_list.append('lightgrey')\n",
    "fillcolor_list.append('red')\n",
    "\n",
    "\n",
    "def plt_geant4(data_real, data_real2, energy_center, maxE, minE, bins, xtitle,save_title):\n",
    "    figSE = plt.figure(figsize=(8,8))\n",
    "    axSE = figSE.add_subplot(1,1,1)\n",
    "    lightblue = (0.1, 0.1, 0.9, 0.3)\n",
    "    \n",
    "   \n",
    "    pSEa = axSE.hist(data_real, bins=bins, range=[minE, maxE], density=None, edgecolor=color_list[0],\n",
    "    #weights=np.ones_like(data_real)/(float(len(data_real))),  \n",
    "                   label = \"orig\", linewidth=linewidth_list[0],color=fillcolor_list[0],\n",
    "                   histtype='stepfilled')\n",
    "\n",
    "   \n",
    "\n",
    "    pSpnEb = axSE.hist(data_real2, bins=pSEa[1], range=None, density=None, edgecolor=color_list[1],\n",
    "    #weights=np.ones_like(data_fake)/(float(len(data_fake))), , \n",
    "                   label = \"orig\", linewidth=linewidth_list[1], linestyle=linestyle_list[1],\n",
    "                   histtype='step')\n",
    "\n",
    " \n",
    "    \n",
    "    axSE.set_xlabel(xtitle, family='serif')\n",
    "    axSE.set_xlim([minE, maxE])\n",
    "    #axSE.set_ylim([0, 0.28])\n",
    "\n",
    "  \n",
    "    \n",
    "    posX = 0.02\n",
    "    axSE.text(posX,\n",
    "            0.97,\n",
    "            '{:d} GeV Photons'.format(energy_center), horizontalalignment='left',verticalalignment='top', \n",
    "             transform=axSE.transAxes)\n",
    "\n",
    "    axSE.text(posX, 0.65, 'Geant4 (Pure LCIO hits)', horizontalalignment='left',verticalalignment='top', \n",
    "             transform=axSE.transAxes, color = color_list[0])\n",
    "    axSE.text(posX, 0.60, 'Geant4 (Hdf5 file 30x30x40)', horizontalalignment='left',verticalalignment='top', \n",
    "             transform=axSE.transAxes, color = color_list[1])\n",
    "    \n",
    "    plt.subplots_adjust(left=0.18, right=0.95, top=0.95, bottom=0.18)\n",
    "    #plt.yscale('log')\n",
    "    figSE.patch.set_facecolor('white')\n",
    "\n",
    "    plt.savefig(save_title+ str(energy_center)+\"_leak.png\")\n",
    "    \n",
    "    \n",
    "    \n",
    "def plt_scatter(x_data, y_data, y_err, y_data_lcio, y_err_lcio):\n",
    "    figStr = plt.figure(figsize=(6,6))\n",
    "    axStr = figStr.add_subplot(1,1,1)\n",
    "    \n",
    "    lightblue = (0.1, 0.1, 0.9, 0.3)\n",
    "    markersize1=10\n",
    "    markersize2=10\n",
    "    \n",
    "\n",
    "    pStra = axStr.errorbar(x=x_data, y=y_data, xerr=None, yerr=y_err, \n",
    "                               capsize=4, marker='x', linestyle='-', \n",
    "                               linewidth=2, color='red')\n",
    "    pStrb = axStr.errorbar(x=x_data, y=y_data_lcio, xerr=None, yerr=y_err_lcio, \n",
    "                               capsize=4, marker='x', linestyle='dashed', \n",
    "                               linewidth=2, color='lightcoral')\n",
    "    \n",
    "    #axStr.text(0.70, 0.93, 'Hdf5', horizontalalignment='left',verticalalignment='top', \n",
    "    #         transform=axStr.transAxes, color='black')\n",
    "    \n",
    "    axStr.text(0.60, 0.93, 'LCIO-Nominal', horizontalalignment='left',verticalalignment='top', \n",
    "             transform=axStr.transAxes, color='red')\n",
    "    \n",
    "    axStr.text(0.60, 0.87, 'LCIO-corrected', horizontalalignment='left',verticalalignment='top', \n",
    "             transform=axStr.transAxes, color='lightcoral')\n",
    "    \n",
    "    \n",
    "    axStr.xaxis.set_minor_locator(MultipleLocator(0.1))\n",
    "    axStr.xaxis.set_major_locator(MultipleLocator(0.2))\n",
    "    \n",
    "    axStr.patch.set_facecolor('white')\n",
    "    figStr.patch.set_facecolor('white')\n",
    "    \n",
    "    #plt.yscale('log')\n",
    "    \n",
    "    axStr.set_ylabel('< E-sum >', family='serif')\n",
    "    axStr.set_xlabel('Angle [rad]', family='serif')\n",
    "    axStr.set_xlim([0.4, 1.7])\n",
    "    axStr.set_ylim([415, 550])\n",
    "    plt.savefig(\"plots/leakDiff.png\")\n",
    "    \n",
    "def plt_scatter_ratio(x_data, y_data, y_lcio):\n",
    "    figStr = plt.figure(figsize=(6,6))\n",
    "    axStr = figStr.add_subplot(1,1,1)\n",
    "    \n",
    "    lightblue = (0.1, 0.1, 0.9, 0.3)\n",
    "    markersize1=10\n",
    "    markersize2=10\n",
    "    \n",
    "    ratio = y_data / y_lcio\n",
    "\n",
    "    ## for correlated uncertainties\n",
    "    corr_unc = []\n",
    "    for i in range(len(y_data)):\n",
    "        a, b = uncertainties.correlated_values_norm(\n",
    "            [(ydata[i].n, ydata[i].s), (ydata_lcio[i].n, ydata_lcio[i].s)], [[1, 1], [1, 1]])\n",
    "        tmp = a/b\n",
    "        corr_unc.append(tmp.s) \n",
    "    \n",
    "    pStra = axStr.errorbar(x=x_data, y=unumpy.nominal_values(ratio), xerr=None, yerr=corr_unc, \n",
    "                               capsize=4, marker='x', linestyle='-', \n",
    "                               linewidth=2, color='black')\n",
    "   \n",
    "    \n",
    "    #axStr.text(0.70, 0.93, 'Ratio of Hdf5', horizontalalignment='left',verticalalignment='top', \n",
    "    #         transform=axStr.transAxes, color='black')\n",
    "    \n",
    "    \n",
    "    \n",
    "    axStr.xaxis.set_minor_locator(MultipleLocator(0.1))\n",
    "    axStr.xaxis.set_major_locator(MultipleLocator(0.2))\n",
    "    \n",
    "    \n",
    "    axStr.yaxis.set_minor_locator(MultipleLocator(0.01))\n",
    "    axStr.yaxis.set_major_locator(MultipleLocator(0.05))\n",
    "    \n",
    "    axStr.patch.set_facecolor('white')\n",
    "    figStr.patch.set_facecolor('white')\n",
    "    \n",
    "    #plt.yscale('log')\n",
    "    \n",
    "    axStr.set_ylabel('Hdf5 / LCIO', family='serif')\n",
    "    axStr.set_xlabel('Angle [rad]', family='serif')\n",
    "    axStr.set_xlim([0.4, 1.7])\n",
    "    axStr.set_ylim([0.94, 1.05])\n",
    "    plt.savefig(\"plots/leakDiff_ratio.png\")\n",
    "      \n"
   ]
  },
  {
   "cell_type": "code",
   "execution_count": null,
   "metadata": {},
   "outputs": [],
   "source": [
    "g4_sim = Esumhit(\"40_deg/photon-40.slcio_REC.slcio\", 2000, \"EcalBarrelCollection\" )"
   ]
  },
  {
   "cell_type": "code",
   "execution_count": null,
   "metadata": {},
   "outputs": [],
   "source": [
    "f = h5py.File('40_deg/photon20GeV-40deg.hdf5','r')\n",
    "layers = f['ecal/layers']\n",
    "showers = layers[:]"
   ]
  },
  {
   "cell_type": "code",
   "execution_count": null,
   "metadata": {},
   "outputs": [],
   "source": [
    "g4_sim_box = getTotE(showers,30,40,30)"
   ]
  },
  {
   "cell_type": "code",
   "execution_count": null,
   "metadata": {},
   "outputs": [],
   "source": [
    "plt_geant4(g4_sim*1000, g4_sim_box, 20, 650, 100, bins=50, xtitle=\"Energy Sum [MeV]\",save_title=\"plots/leak-40deg-comp\")"
   ]
  },
  {
   "cell_type": "markdown",
   "metadata": {},
   "source": [
    "## Let's try for diffential leak (as a function of angle)"
   ]
  },
  {
   "cell_type": "code",
   "execution_count": null,
   "metadata": {},
   "outputs": [],
   "source": [
    "f = h5py.File('photon20GeV-30x40-1.hdf5','r')\n",
    "#f = h5py.File('40_deg/photon20GeV-40deg.hdf5','r')\n",
    "layers = f['ecal/layers']\n",
    "ang = f['ecal/theta']\n",
    "showers = layers[:]\n",
    "angles = ang[:]"
   ]
  },
  {
   "cell_type": "code",
   "execution_count": null,
   "metadata": {},
   "outputs": [],
   "source": [
    "showers.shape"
   ]
  },
  {
   "cell_type": "code",
   "execution_count": null,
   "metadata": {},
   "outputs": [],
   "source": [
    "def Esumhit_perTheta(fName, maxEvt, collection, thMin, thMax):\n",
    "    reader = IOIMPL.LCFactory.getInstance().createLCReader()\n",
    "    reader.open( fName )\n",
    "    \n",
    "    esuml = []\n",
    "\n",
    "    nEvt = 0\n",
    "\n",
    "    for evt in reader:\n",
    "        nEvt += 1\n",
    "        if nEvt > maxEvt:\n",
    "                break\n",
    "        \n",
    "        mcparticle = evt.getCollection(\"MCParticle\")  \n",
    "       \n",
    "        for enr in mcparticle:\n",
    "            E = enr.getEnergy()\n",
    "            ## calculate polar angle theta\n",
    "            if enr.getGeneratorStatus() != 1.0: continue\n",
    "            pVec = enr.getMomentum()\n",
    "            theta = math.pi/2.00 - math.atan(pVec[2]/pVec[1])\n",
    "             \n",
    "        \n",
    "        if (theta < thMax) & (theta >= thMin):\n",
    "            ecalBarrel = evt.getCollection(collection)    \n",
    "            esum = 0.0\n",
    "            for hit in ecalBarrel:\n",
    "                e = hit.getEnergy()*1000.00  ## convert to MeV \n",
    "                esum += e\n",
    "\n",
    "            esuml.append(esum)\n",
    "        \n",
    "        \n",
    "    esumnp = np.asarray(esuml)\n",
    "    \n",
    "    \n",
    "    return esumnp\n"
   ]
  },
  {
   "cell_type": "code",
   "execution_count": null,
   "metadata": {
    "scrolled": false
   },
   "outputs": [],
   "source": [
    "x_data = []\n",
    "y_data = []\n",
    "y_err = []\n",
    "\n",
    "\n",
    "lcio_y_data = []\n",
    "lcio_y_err = []\n",
    "\n",
    "for i in range(30,90,5):\n",
    "    rad = i*math.pi/180\n",
    "    radnn = (i+5)*math.pi/180\n",
    "    \n",
    "    print (rad, radnn)\n",
    "    ## hdf5 guys\n",
    "    idx = np.where( (angles <= radnn) & (angles > rad))\n",
    "    x_data.append((rad + radnn)/2)\n",
    "    sh = showers[idx[0]]\n",
    "    esum = getTotE(sh,30,40,30)\n",
    "    esum = np.nan_to_num(esum)\n",
    "    #if esum.mean() == 0.0: continue\n",
    "    y_data.append(esum.mean())\n",
    "    y_err.append(esum.std() / math.sqrt(len(esum)))\n",
    "\n",
    "    ### LCIO guys\n",
    "    esum_lcio = Esumhit_perTheta(\"photon-1.slcio_REC.slcio\", 5000, \"EcalBarrelCollection\", rad, radnn)\n",
    "    #esum_lcio = Esumhit_perTheta(\"40_deg/photon-40.slcio_REC.slcio\", 2000, \"EcalBarrelCollection\", rad, radnn)\n",
    "    \n",
    "    #if esum_lcio.mean() == 0.0: continue\n",
    "    lcio_y_data.append(esum_lcio.mean())\n",
    "    lcio_y_err.append(esum_lcio.std() / math.sqrt(len(esum_lcio)))\n",
    "    "
   ]
  },
  {
   "cell_type": "code",
   "execution_count": null,
   "metadata": {
    "scrolled": false
   },
   "outputs": [],
   "source": [
    "plt_scatter(x_data, y_data, y_err, lcio_y_data, lcio_y_err)"
   ]
  },
  {
   "cell_type": "code",
   "execution_count": null,
   "metadata": {},
   "outputs": [],
   "source": [
    "ydata = unumpy.uarray(y_data, y_err) \n",
    "ydata_lcio = unumpy.uarray(lcio_y_data, lcio_y_err)"
   ]
  },
  {
   "cell_type": "code",
   "execution_count": null,
   "metadata": {},
   "outputs": [],
   "source": [
    "plt_scatter_ratio(x_data, ydata, ydata_lcio)"
   ]
  },
  {
   "cell_type": "markdown",
   "metadata": {},
   "source": [
    "## Corrected files"
   ]
  },
  {
   "cell_type": "code",
   "execution_count": null,
   "metadata": {},
   "outputs": [],
   "source": [
    "## multiply last 10 layers with 2 (to correct for different sampling fraction)\n",
    "def esum_corr_perTheta(fName, maxEvt, collection, thMin, thMax):\n",
    "    reader = IOIMPL.LCFactory.getInstance().createLCReader()\n",
    "    reader.open( fName )\n",
    "    \n",
    "\n",
    "    \n",
    "    nEvt = 0\n",
    "\n",
    "    esumL = []\n",
    "    for evt in reader:\n",
    "        nEvt += 1\n",
    "        if nEvt > maxEvt:\n",
    "                break\n",
    "        \n",
    "        mcparticle = evt.getCollection(\"MCParticle\")  \n",
    "       \n",
    "        for enr in mcparticle:\n",
    "            E = enr.getEnergy()\n",
    "            ## calculate polar angle theta\n",
    "            if enr.getGeneratorStatus() != 1.0: continue\n",
    "            pVec = enr.getMomentum()\n",
    "            theta = math.pi/2.00 - math.atan(pVec[2]/pVec[1])\n",
    "             \n",
    "                \n",
    "        \n",
    "        \n",
    "        ecalBarrel = evt.getCollection(collection)\n",
    "        cellIDString = ecalBarrel.getParameters().getStringVal(\"CellIDEncoding\")\n",
    "        decoder = CellIDDecoder( cellIDString ) \n",
    "        \n",
    "        if (theta < thMax) & (theta >= thMin):\n",
    "            esum = 0.0\n",
    "            for hit in ecalBarrel:\n",
    "                l = decoder.layer( hit.getCellID0() ) \n",
    "                e = hit.getEnergy()*1000.0 ## convert to MeV \n",
    "                #print (\"Energy:\", hit.getEnergy(), \" Cell ID0:\", hit.getCellID0(), \" layer: \", decoder.layer( hit.getCellID0() )) \n",
    "                if l < 21:\n",
    "                    esum = esum + e \n",
    "                elif l >= 21:\n",
    "                    esum = esum + e*2\n",
    "\n",
    "            esumL.append(esum)\n",
    "        \n",
    "        \n",
    "    esumnp = np.asarray(esumL)\n",
    "    \n",
    "    return esumnp\n",
    "    "
   ]
  },
  {
   "cell_type": "code",
   "execution_count": null,
   "metadata": {},
   "outputs": [],
   "source": [
    "x_data = []\n",
    "lcio_y_data = []\n",
    "lcio_y_err = []\n",
    "\n",
    "\n",
    "lcio_y_corrdata = []\n",
    "lcio_y_correrr = []\n",
    "\n",
    "for i in range(30,90,5):\n",
    "    rad = i*math.pi/180\n",
    "    radnn = (i+5)*math.pi/180\n",
    "    \n",
    "    x_data.append((rad + radnn)/2)\n",
    "    print (rad, radnn)\n",
    "    ## corrected LCIO guys\n",
    "    esum_lcio_corr = esum_corr_perTheta(\"photon-1.slcio_REC.slcio\", 5000, \"EcalBarrelCollection\", rad, radnn)\n",
    "    lcio_y_corrdata.append(esum_lcio_corr.mean())\n",
    "    lcio_y_correrr.append(esum_lcio_corr.std() / math.sqrt(len(esum_lcio_corr)))\n",
    "    \n",
    "    ### nominal LCIO guys\n",
    "    esum_lcio = Esumhit_perTheta(\"photon-1.slcio_REC.slcio\", 5000, \"EcalBarrelCollection\", rad, radnn)\n",
    "    #esum_lcio = Esumhit_perTheta(\"40_deg/photon-40.slcio_REC.slcio\", 2000, \"EcalBarrelCollection\", rad, radnn)\n",
    "    \n",
    "    #if esum_lcio.mean() == 0.0: continue\n",
    "    lcio_y_data.append(esum_lcio.mean())\n",
    "    lcio_y_err.append(esum_lcio.std() / math.sqrt(len(esum_lcio)))\n",
    "    "
   ]
  },
  {
   "cell_type": "code",
   "execution_count": null,
   "metadata": {},
   "outputs": [],
   "source": [
    "x_data = []\n",
    "for i in range(30,90,5):\n",
    "    rad = i*math.pi/180\n",
    "    radnn = (i+5)*math.pi/180\n",
    "    \n",
    "    print (rad, radnn)\n",
    "    x_data.append((rad + radnn)/2)"
   ]
  },
  {
   "cell_type": "code",
   "execution_count": null,
   "metadata": {},
   "outputs": [],
   "source": [
    "for i in range(0, len(lcio_y_corrdata)):\n",
    "    print (lcio_y_corrdata[i], lcio_y_correrr[i])"
   ]
  },
  {
   "cell_type": "code",
   "execution_count": null,
   "metadata": {},
   "outputs": [],
   "source": [
    "for i in range(0, len(lcio_y_data)):\n",
    "    print (lcio_y_data[i], lcio_y_err[i])"
   ]
  },
  {
   "cell_type": "code",
   "execution_count": null,
   "metadata": {},
   "outputs": [],
   "source": [
    "plt_scatter(x_data, lcio_y_data, lcio_y_err, lcio_y_corrdata, lcio_y_correrr)"
   ]
  },
  {
   "cell_type": "code",
   "execution_count": null,
   "metadata": {},
   "outputs": [],
   "source": []
  },
  {
   "cell_type": "code",
   "execution_count": null,
   "metadata": {},
   "outputs": [],
   "source": [
    "a = ydata[0]\n",
    "b = ydata_lcio[0]\n",
    "print (a)\n",
    "print(b)"
   ]
  },
  {
   "cell_type": "code",
   "execution_count": null,
   "metadata": {},
   "outputs": [],
   "source": [
    "a, b = uncertainties.correlated_values_norm(\n",
    "    [(ydata[0].n, ydata[0].s), (ydata_lcio[0].n, ydata_lcio[0].s)], [[1, 1], [1, 1]])"
   ]
  },
  {
   "cell_type": "code",
   "execution_count": null,
   "metadata": {},
   "outputs": [],
   "source": [
    "a/b"
   ]
  },
  {
   "cell_type": "code",
   "execution_count": null,
   "metadata": {},
   "outputs": [],
   "source": [
    "def formula(A,B,Ea, Eb):\n",
    "    sigma = (A/B)*math.sqrt((Ea/A)**2 + (Eb/B)**2 - (2*Ea*Eb)/(A*B))\n",
    "    return sigma"
   ]
  },
  {
   "cell_type": "code",
   "execution_count": null,
   "metadata": {},
   "outputs": [],
   "source": [
    "A = ydata[0].nominal_value\n",
    "B = ydata_lcio[0].nominal_value\n",
    "Ea = ydata[0].std_dev\n",
    "Eb = ydata_lcio[0].std_dev"
   ]
  },
  {
   "cell_type": "code",
   "execution_count": null,
   "metadata": {},
   "outputs": [],
   "source": [
    "sg = formula(A,B,Ea,Eb)"
   ]
  },
  {
   "cell_type": "code",
   "execution_count": null,
   "metadata": {},
   "outputs": [],
   "source": [
    "sg"
   ]
  },
  {
   "cell_type": "code",
   "execution_count": null,
   "metadata": {},
   "outputs": [],
   "source": [
    "idx = np.where( (angles <= 0.698132) & (angles > 0.52389))"
   ]
  },
  {
   "cell_type": "code",
   "execution_count": null,
   "metadata": {},
   "outputs": [],
   "source": [
    "sh = showers[idx[0]]"
   ]
  },
  {
   "cell_type": "code",
   "execution_count": null,
   "metadata": {},
   "outputs": [],
   "source": [
    "sh.shape"
   ]
  },
  {
   "cell_type": "code",
   "execution_count": null,
   "metadata": {},
   "outputs": [],
   "source": [
    "for i in range(30,90,5):\n",
    "    rad = i*math.pi/180\n",
    "    radnn = (i+5)*math.pi/180\n",
    "    print ((rad + radnn)/2)\n",
    "    print (rad)"
   ]
  },
  {
   "cell_type": "code",
   "execution_count": null,
   "metadata": {},
   "outputs": [],
   "source": []
  }
 ],
 "metadata": {
  "kernelspec": {
   "display_name": "Python 3",
   "language": "python",
   "name": "python3"
  },
  "language_info": {
   "codemirror_mode": {
    "name": "ipython",
    "version": 3
   },
   "file_extension": ".py",
   "mimetype": "text/x-python",
   "name": "python",
   "nbconvert_exporter": "python",
   "pygments_lexer": "ipython3",
   "version": "3.7.8"
  }
 },
 "nbformat": 4,
 "nbformat_minor": 4
}
