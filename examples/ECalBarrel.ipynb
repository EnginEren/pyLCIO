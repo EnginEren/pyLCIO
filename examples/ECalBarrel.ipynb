{
 "cells": [
  {
   "cell_type": "code",
   "execution_count": 1,
   "metadata": {},
   "outputs": [
    {
     "name": "stdout",
     "output_type": "stream",
     "text": [
      "Welcome to JupyROOT 6.22/00\n",
      "Loading LCIO ROOT dictionaries ...\n"
     ]
    }
   ],
   "source": [
    "from ROOT import TH1D, TCanvas, TF1, std\n",
    "from pyLCIO import EVENT, UTIL, IOIMPL, IMPL\n",
    "import matplotlib.pyplot as plt\n",
    "import numpy as np"
   ]
  },
  {
   "cell_type": "code",
   "execution_count": 2,
   "metadata": {},
   "outputs": [],
   "source": [
    "### read LCIO file \n",
    "fName=\"wgan50GeV_REC.slcio\"\n",
    "\n",
    "reader = IOIMPL.LCFactory.getInstance().createLCReader()\n",
    "reader.open( fName )"
   ]
  },
  {
   "cell_type": "code",
   "execution_count": 18,
   "metadata": {
    "scrolled": false
   },
   "outputs": [
    {
     "name": "stdout",
     "output_type": "stream",
     "text": [
      "0.01820404827594757 1149248372\n"
     ]
    },
    {
     "ename": "TypeError",
     "evalue": "none of the 4 overloaded methods succeeded. Full details:\n  CellIDDecoder<IMPL::SimCalorimeterHitImpl>::CellIDDecoder<IMPL::SimCalorimeterHitImpl>() =>\n    TypeError: takes at most 0 arguments (1 given)\n  CellIDDecoder<IMPL::SimCalorimeterHitImpl>::CellIDDecoder<IMPL::SimCalorimeterHitImpl>(const UTIL::CellIDDecoder<IMPL::SimCalorimeterHitImpl>&) =>\n    TypeError: could not convert argument 1\n  CellIDDecoder<IMPL::SimCalorimeterHitImpl>::CellIDDecoder<IMPL::SimCalorimeterHitImpl>(const string& encoder_str) =>\n    TypeError: could not convert argument 1\n  CellIDDecoder<IMPL::SimCalorimeterHitImpl>::CellIDDecoder<IMPL::SimCalorimeterHitImpl>(const EVENT::LCCollection* col) =>\n    TypeError: could not convert argument 1",
     "output_type": "error",
     "traceback": [
      "\u001b[0;31m---------------------------------------------------------------------------\u001b[0m",
      "\u001b[0;31mTypeError\u001b[0m                                 Traceback (most recent call last)",
      "\u001b[0;32m<ipython-input-18-ab877d0d94d7>\u001b[0m in \u001b[0;36m<module>\u001b[0;34m\u001b[0m\n\u001b[1;32m     13\u001b[0m         \u001b[0;31m#print (e)  e is IOIMPL.CalorimeterHitIOImpl\u001b[0m\u001b[0;34m\u001b[0m\u001b[0;34m\u001b[0m\u001b[0;34m\u001b[0m\u001b[0m\n\u001b[1;32m     14\u001b[0m         \u001b[0mprint\u001b[0m \u001b[0;34m(\u001b[0m\u001b[0me\u001b[0m\u001b[0;34m.\u001b[0m\u001b[0mgetEnergy\u001b[0m\u001b[0;34m(\u001b[0m\u001b[0;34m)\u001b[0m\u001b[0;34m,\u001b[0m \u001b[0me\u001b[0m\u001b[0;34m.\u001b[0m\u001b[0mgetCellID0\u001b[0m\u001b[0;34m(\u001b[0m\u001b[0;34m)\u001b[0m\u001b[0;34m)\u001b[0m\u001b[0;34m\u001b[0m\u001b[0;34m\u001b[0m\u001b[0m\n\u001b[0;32m---> 15\u001b[0;31m         \u001b[0mlayer\u001b[0m \u001b[0;34m=\u001b[0m \u001b[0mcell_id_decoder\u001b[0m\u001b[0;34m(\u001b[0m\u001b[0me\u001b[0m\u001b[0;34m)\u001b[0m\u001b[0;34m[\u001b[0m\u001b[0;34m\"layer\"\u001b[0m\u001b[0;34m]\u001b[0m\u001b[0;34m\u001b[0m\u001b[0;34m\u001b[0m\u001b[0m\n\u001b[0m",
      "\u001b[0;31mTypeError\u001b[0m: none of the 4 overloaded methods succeeded. Full details:\n  CellIDDecoder<IMPL::SimCalorimeterHitImpl>::CellIDDecoder<IMPL::SimCalorimeterHitImpl>() =>\n    TypeError: takes at most 0 arguments (1 given)\n  CellIDDecoder<IMPL::SimCalorimeterHitImpl>::CellIDDecoder<IMPL::SimCalorimeterHitImpl>(const UTIL::CellIDDecoder<IMPL::SimCalorimeterHitImpl>&) =>\n    TypeError: could not convert argument 1\n  CellIDDecoder<IMPL::SimCalorimeterHitImpl>::CellIDDecoder<IMPL::SimCalorimeterHitImpl>(const string& encoder_str) =>\n    TypeError: could not convert argument 1\n  CellIDDecoder<IMPL::SimCalorimeterHitImpl>::CellIDDecoder<IMPL::SimCalorimeterHitImpl>(const EVENT::LCCollection* col) =>\n    TypeError: could not convert argument 1"
     ]
    }
   ],
   "source": [
    "maxEvt = 1\n",
    "nEvt = 0\n",
    "\n",
    "for evt in reader:\n",
    "    nEvt += 1\n",
    "    if nEvt > maxEvt:\n",
    "            break\n",
    "\n",
    "    ecalBarrel = evt.getCollection(\"EcalBarrelCollectionRec\")\n",
    "    cell_id_decoder = UTIL.CellIDDecoder(IMPL.SimCalorimeterHitImpl)\n",
    "    \n",
    "    for e in ecalBarrel:\n",
    "        #print (e) -->  e is IOIMPL.CalorimeterHitIOImpl\n",
    "        print (e.getEnergy(), e.getCellID0()) \n",
    "        layer = cell_id_decoder(e)[\"layer\"]"
   ]
  },
  {
   "cell_type": "code",
   "execution_count": null,
   "metadata": {},
   "outputs": [],
   "source": []
  }
 ],
 "metadata": {
  "kernelspec": {
   "display_name": "Python 3",
   "language": "python",
   "name": "python3"
  },
  "language_info": {
   "codemirror_mode": {
    "name": "ipython",
    "version": 3
   },
   "file_extension": ".py",
   "mimetype": "text/x-python",
   "name": "python",
   "nbconvert_exporter": "python",
   "pygments_lexer": "ipython3",
   "version": "3.8.5"
  }
 },
 "nbformat": 4,
 "nbformat_minor": 4
}
