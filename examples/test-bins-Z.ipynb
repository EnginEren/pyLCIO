{
 "cells": [
  {
   "cell_type": "code",
   "execution_count": 1,
   "metadata": {},
   "outputs": [
    {
     "name": "stdout",
     "output_type": "stream",
     "text": [
      "Welcome to JupyROOT 6.22/02\n",
      "Loading LCIO ROOT dictionaries ...\n"
     ]
    }
   ],
   "source": [
    "from pyLCIO import EVENT, UTIL, IOIMPL, IMPL\n",
    "import matplotlib.pyplot as plt\n",
    "import matplotlib as mpl\n",
    "import numpy as np\n",
    "import h5py \n",
    "import awkward1 as ak \n",
    "import argparse\n",
    "import math\n",
    "\n",
    "from lcio2hdf5 import fill_record\n",
    "\n",
    "inpLCIO = str('photon-1.slcio_REC.slcio')\n",
    "collection = str('EcalBarrelCollection')\n",
    "nevents = 3000\n",
    "\n",
    "# create awkward array from LCIO\n",
    "record = fill_record(inpLCIO, collection, nevents)\n",
    "\n"
   ]
  },
  {
   "cell_type": "code",
   "execution_count": 178,
   "metadata": {},
   "outputs": [],
   "source": [
    "z0 = np.zeros(450)\n",
    "for i in range(0,10):\n",
    "    tmp = ak.to_numpy(record[i].z).filled()\n",
    "    tmp = tmp[0:450]\n",
    "    z0 = np.vstack((z0,tmp))\n",
    "\n",
    "        "
   ]
  },
  {
   "cell_type": "code",
   "execution_count": 247,
   "metadata": {},
   "outputs": [
    {
     "data": {
      "text/plain": [
       "(43,)"
      ]
     },
     "execution_count": 247,
     "metadata": {},
     "output_type": "execute_result"
    }
   ],
   "source": [
    "binZ = np.arange(-115, 100, 5.088333)\n",
    "binZ.shape\n",
    "#binZ = np.arange(-104, 106, 5.088333)\n"
   ]
  },
  {
   "cell_type": "code",
   "execution_count": 248,
   "metadata": {},
   "outputs": [
    {
     "data": {
      "image/png": "[encoded data removed]",
      "text/plain": [
       "<Figure size 432x288 with 1 Axes>"
      ]
     },
     "metadata": {
      "needs_background": "light"
     },
     "output_type": "display_data"
    }
   ],
   "source": [
    "n, bins, patches = plt.hist(z0[1:10].flatten(), bins=binZ, alpha=0.75)\n",
    "plt.yscale('log')"
   ]
  },
  {
   "cell_type": "code",
   "execution_count": 190,
   "metadata": {},
   "outputs": [
    {
     "data": {
      "text/plain": [
       "array([ 17.,  16.,  32.,  32.,  47.,  91., 151., 252., 415., 800., 913.,\n",
       "       666., 356., 179., 135.,  62.,  57.,  44.,  20.,  20., 470.,   9.,\n",
       "        10.,   7.,   4.,   3.,   2.,   3.,   2.,   1.,   1.,   1.,   0.,\n",
       "         5.,   4.,   3.,   3.,   3.,   0.,   1.])"
      ]
     },
     "execution_count": 190,
     "metadata": {},
     "output_type": "execute_result"
    }
   ],
   "source": [
    "n"
   ]
  },
  {
   "cell_type": "code",
   "execution_count": null,
   "metadata": {},
   "outputs": [],
   "source": []
  }
 ],
 "metadata": {
  "kernelspec": {
   "display_name": "Python 3",
   "language": "python",
   "name": "python3"
  },
  "language_info": {
   "codemirror_mode": {
    "name": "ipython",
    "version": 3
   },
   "file_extension": ".py",
   "mimetype": "text/x-python",
   "name": "python",
   "nbconvert_exporter": "python",
   "pygments_lexer": "ipython3",
   "version": "3.7.8"
  }
 },
 "nbformat": 4,
 "nbformat_minor": 4
}
